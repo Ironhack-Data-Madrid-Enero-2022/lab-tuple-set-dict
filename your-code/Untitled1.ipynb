{
 "cells": [
  {
   "cell_type": "code",
   "execution_count": 3,
   "metadata": {},
   "outputs": [
    {
     "name": "stdout",
     "output_type": "stream",
     "text": [
      "escribe un numero del 1 al 12: 99\n",
      "por favor escribe del 1 al 12\n"
     ]
    }
   ],
   "source": [
    "mes = int(input(\"escribe un numero del 1 al 12: \"))\n",
    "dic = {1:\"enero\", 2:\"febrero\", 3:\"marzo\", 4:\"abril\", 5:\"mayo\", 6:\"junio\", 7:\"julio\", 8:\"agosto\", 9:\"septiembre\", 10:\"octubre\", 11:\"noviembre\", 12:\"diciembre\"}\n",
    "if dic.get(mes):\n",
    "    print(dic.get(mes))\n",
    "else:\n",
    "    print(\"por favor escribe del 1 al 12\")"
   ]
  },
  {
   "cell_type": "code",
   "execution_count": null,
   "metadata": {},
   "outputs": [],
   "source": []
  },
  {
   "cell_type": "code",
   "execution_count": null,
   "metadata": {},
   "outputs": [],
   "source": []
  }
 ],
 "metadata": {
  "kernelspec": {
   "display_name": "Python 3",
   "language": "python",
   "name": "python3"
  },
  "language_info": {
   "codemirror_mode": {
    "name": "ipython",
    "version": 3
   },
   "file_extension": ".py",
   "mimetype": "text/x-python",
   "name": "python",
   "nbconvert_exporter": "python",
   "pygments_lexer": "ipython3",
   "version": "3.8.5"
  }
 },
 "nbformat": 4,
 "nbformat_minor": 4
}
