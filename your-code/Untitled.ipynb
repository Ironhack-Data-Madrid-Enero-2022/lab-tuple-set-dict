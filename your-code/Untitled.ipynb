{
 "cells": [
  {
   "cell_type": "code",
   "execution_count": 14,
   "metadata": {},
   "outputs": [
    {
     "name": "stdout",
     "output_type": "stream",
     "text": [
      "Mes de nacimiento 1-12 1\n"
     ]
    }
   ],
   "source": [
    "mes_de_nacimiento = int(input(\"Mes de nacimiento 1-12 \"))"
   ]
  },
  {
   "cell_type": "code",
   "execution_count": 15,
   "metadata": {},
   "outputs": [
    {
     "name": "stdout",
     "output_type": "stream",
     "text": [
      "Estas en enero\n"
     ]
    }
   ],
   "source": [
    "if mes_de_nacimiento == 1:\n",
    "    print(\"Estas en enero\")\n",
    "elif mes_de_nacimiento == 2:\n",
    "    print(\"Estas en Febrero\")\n",
    "elif mes_de_nacimiento == 3:\n",
    "    print(\"Estas en Marzo\")\n",
    "elif mes_de_nacimiento == 4:\n",
    "    print(\"Estas en Abril\")\n",
    "elif mes_de_nacimiento == 5:\n",
    "    print(\"Estas en Mayo\")\n",
    "elif mes_de_nacimiento == 6:\n",
    "    print(\"Estas en Junio\")\n",
    "elif mes_de_nacimiento == 7:\n",
    "    print(\"Estas en Julio\")\n",
    "elif mes_de_nacimiento == 8:\n",
    "    print(\"Estas en Agosto\")\n",
    "elif mes_de_nacimiento == 9:\n",
    "    print(\"Estas en Septiemb\")\n",
    "elif mes_de_nacimiento == 10:\n",
    "    print(\"Estas en Octubre\")\n",
    "elif mes_de_nacimiento == 11:\n",
    "    print(\"estas en novimienbre\")\n",
    "elif mes_de_nacimiento == 12:\n",
    "    print(\"estas en diciembre\")"
   ]
  },
  {
   "cell_type": "code",
   "execution_count": null,
   "metadata": {},
   "outputs": [],
   "source": []
  }
 ],
 "metadata": {
  "kernelspec": {
   "display_name": "Python 3",
   "language": "python",
   "name": "python3"
  },
  "language_info": {
   "codemirror_mode": {
    "name": "ipython",
    "version": 3
   },
   "file_extension": ".py",
   "mimetype": "text/x-python",
   "name": "python",
   "nbconvert_exporter": "python",
   "pygments_lexer": "ipython3",
   "version": "3.8.5"
  }
 },
 "nbformat": 4,
 "nbformat_minor": 4
}
